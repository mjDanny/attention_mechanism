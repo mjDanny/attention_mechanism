{
  "cells": [
    {
      "cell_type": "code",
      "execution_count": null,
      "metadata": {},
      "outputs": [],
      "source": [
        "# Установка необходимых библиотек\n",
        "%pip install tensorflow scikit-learn numpy"
      ]
    },
    {
      "cell_type": "code",
      "execution_count": null,
      "metadata": {
        "id": "v0qQaplFyUdv"
      },
      "outputs": [],
      "source": [
        "# Импорт необходимых библиотек\n",
        "import tensorflow as tf  # Библиотека для работы с нейронными сетями\n",
        "from tensorflow.keras.layers import Layer, LSTM, Embedding, Dense  # Импорт слоев для построения модели\n",
        "import numpy as np  # Библиотека для работы с массивами и математическими операциями\n",
        "import re  # Модуль для работы с регулярными выражениями\n",
        "from sklearn.model_selection import train_test_split  # Функция для разделения данных на обучающую и тестовую выборки"
      ]
    },
    {
      "cell_type": "code",
      "execution_count": null,
      "metadata": {
        "colab": {
          "base_uri": "https://localhost:8080/"
        },
        "id": "9Xnm81nCyFe-",
        "outputId": "dcacda42-117c-4ccd-9e63-aa2002a0ea99"
      },
      "outputs": [],
      "source": [
        "# Скачивание файла с данными (замените ссылку на свою\n",
        "!wget https://storage.yandexcloud.net/academy.ai/LLM/dialogs.txt"
      ]
    },
    {
      "cell_type": "code",
      "execution_count": null,
      "metadata": {
        "id": "9cwik5HCyGP9"
      },
      "outputs": [],
      "source": [
        "# Класс для реализации механизма внимания (Attention Mechanism)\n",
        "class AttentionMechanism(Layer):\n",
        "    def __init__(self, method, units):\n",
        "        super(AttentionMechanism, self).__init__()\n",
        "        self.method = method  # Метод внимания (например, 'bahdanau', 'luong_gen', 'luong_concat')\n",
        "        self.units = units  # Количество единиц (нейронов) в слоях внимания\n",
        "\n",
        "        # Инициализация слоев в зависимости от выбранного метода\n",
        "        if self.method == 'bahdanau':\n",
        "            # Слои для метода Bahdanau (аддитивное внимание)\n",
        "            self.W1 = Dense(units)  # Полносвязный слой для обработки запроса\n",
        "            self.W2 = Dense(units)  # Полносвязный слой для обработки значений\n",
        "            self.V = Dense(1)  # Полносвязный слой для вычисления score (оценки)\n",
        "        elif self.method == 'luong_gen':\n",
        "            # Слой для метода Luong (обобщенное внимание)\n",
        "            self.W = Dense(units)  # Полносвязный слой для обработки значений\n",
        "        elif self.method == 'luong_concat':\n",
        "            # Слои для метода Luong (конкатенационное внимание)\n",
        "            self.W = Dense(units)  # Полносвязный слой для обработки конкатенации\n",
        "            self.V = Dense(1)  # Полносвязный слой для вычисления score (оценки)\n",
        "\n",
        "    # Метод для вычисления контекстного вектора и весов внимания\n",
        "    def call(self, query, values):\n",
        "        if self.method == 'bahdanau':\n",
        "            # Метод Bahdanau: вычисление score с использованием tanh и аддитивной функции\n",
        "            query_with_time_axis = tf.expand_dims(query, 1)  # Добавление оси времени к запросу\n",
        "            score = self.V(tf.nn.tanh(self.W1(query_with_time_axis) + self.W2(values)))  # Вычисление score\n",
        "        elif self.method == 'luong_gen':\n",
        "            # Метод Luong (обобщенное внимание): вычисление score через матричное умножение\n",
        "            score = tf.matmul(values, tf.expand_dims(query, 2))  # Вычисление score\n",
        "        elif self.method == 'luong_concat':\n",
        "            # Метод Luong (конкатенационное внимание): вычисление score через конкатенацию и tanh\n",
        "            query_with_time_axis = tf.expand_dims(query, 1)  # Добавление оси времени к запросу\n",
        "            score = self.V(tf.nn.tanh(self.W(tf.concat([query_with_time_axis, values], axis=-1))))  # Вычисление score\n",
        "\n",
        "        # Вычисление весов внимания с помощью функции softmax\n",
        "        attention_weights = tf.nn.softmax(score, axis=1)\n",
        "        # Вычисление контекстного вектора как взвешенной суммы значений\n",
        "        context_vector = attention_weights * values\n",
        "        context_vector = tf.reduce_sum(context_vector, axis=1)  # Суммирование по оси времени\n",
        "\n",
        "        return context_vector, attention_weights  # Возврат контекстного вектора и весов внимания"
      ]
    },
    {
      "cell_type": "code",
      "execution_count": null,
      "metadata": {
        "id": "V0DgAIYFyKAO"
      },
      "outputs": [],
      "source": [
        "# Класс для реализации текстового энкодера (Text Encoder)\n",
        "class TextEncoder(Layer):\n",
        "    def __init__(self, vocab_size, embedding_dim, enc_units, batch_sz):\n",
        "        super(TextEncoder, self).__init__()\n",
        "        self.batch_sz = batch_sz  # Размер батча (количество примеров, обрабатываемых за один раз)\n",
        "        self.enc_units = enc_units  # Количество единиц (нейронов) в LSTM слое\n",
        "        self.embedding = Embedding(vocab_size, embedding_dim)  # Слой для векторного представления слов (Embedding)\n",
        "        self.lstm = LSTM(self.enc_units, return_sequences=True, return_state=True)  # LSTM слой для обработки последовательностей\n",
        "\n",
        "    # Метод для обработки входных данных\n",
        "    def call(self, x):\n",
        "        x = self.embedding(x)  # Преобразование входных индексов слов в векторные представления\n",
        "        output, state_h, state_c = self.lstm(x)  # Обработка последовательности с помощью LSTM\n",
        "        return output, state_h, state_c  # Возврат выходных данных, скрытого состояния и состояния ячейки"
      ]
    },
    {
      "cell_type": "code",
      "execution_count": null,
      "metadata": {
        "id": "fAmUuLsTyK7n"
      },
      "outputs": [],
      "source": [
        "# Класс для реализации текстового декодера (Text Decoder)\n",
        "class TextDecoder(Layer):\n",
        "    def __init__(self, vocab_size, embedding_dim, dec_units, batch_sz, attention_method='bahdanau'):\n",
        "        super(TextDecoder, self).__init__()\n",
        "        self.batch_sz = batch_sz  # Размер батча (количество примеров, обрабатываемых за один раз)\n",
        "        self.dec_units = dec_units  # Количество единиц (нейронов) в LSTM слое\n",
        "        self.embedding = Embedding(vocab_size, embedding_dim)  # Слой для векторного представления слов (Embedding)\n",
        "        self.lstm = LSTM(self.dec_units, return_sequences=True, return_state=True)  # LSTM слой для обработки последовательностей\n",
        "        self.fc = Dense(vocab_size)  # Полносвязный слой для предсказания следующего слова\n",
        "        self.attention = AttentionMechanism(method=attention_method, units=self.dec_units)  # Механизм внимания\n",
        "\n",
        "    # Метод для обработки входных данных\n",
        "    def call(self, x, hidden, enc_output):\n",
        "        # Вычисление контекстного вектора и весов внимания\n",
        "        context_vector, attention_weights = self.attention(hidden, enc_output)\n",
        "        # Преобразование входных индексов слов в векторные представления\n",
        "        x = self.embedding(x)\n",
        "        # Конкатенация контекстного вектора и векторного представления слова\n",
        "        x = tf.concat([tf.expand_dims(context_vector, 1), x], axis=-1)\n",
        "        # Обработка последовательности с помощью LSTM\n",
        "        output, state_h, state_c = self.lstm(x)\n",
        "        # Преобразование выходных данных LSTM в нужную форму\n",
        "        output = tf.reshape(output, (-1, output.shape[2]))\n",
        "        # Предсказание следующего слова с помощью полносвязного слоя\n",
        "        x = self.fc(output)\n",
        "        return x, state_h, state_c, attention_weights  # Возврат предсказания, скрытого состояния, состояния ячейки и весов внимания"
      ]
    },
    {
      "cell_type": "code",
      "execution_count": null,
      "metadata": {
        "id": "3BPaBliuyNH_"
      },
      "outputs": [],
      "source": [
        "# Функция для очистки предложения\n",
        "def clean_sentence(sentence):\n",
        "    sentence = sentence.lower().strip()  # Приведение к нижнему регистру и удаление лишних пробелов\n",
        "    sentence = re.sub(r\"([?.!,¿])\", r\" \\1 \", sentence)  # Добавление пробелов вокруг знаков препинания\n",
        "    sentence = re.sub(r'[\" \"]+', \" \", sentence)  # Удаление лишних пробелов\n",
        "    sentence = re.sub(r\"[^a-zA-Zа-яА-Я?.!,¿]+\", \" \", sentence)  # Удаление всех символов, кроме букв и знаков препинания\n",
        "    sentence = sentence.strip()  # Удаление лишних пробелов в начале и конце предложения\n",
        "    sentence = '<start> ' + sentence + ' <end>'  # Добавление специальных токенов начала и конца предложения\n",
        "    return sentence\n",
        "\n",
        "# Функция для загрузки диалогов из файла\n",
        "def load_dialogs(path):\n",
        "    input_texts = []  # Список для хранения входных предложений\n",
        "    target_texts = []  # Список для хранения целевых предложений\n",
        "    with open(path, encoding='utf-8') as file:  # Открытие файла с диалогами\n",
        "        for line in file:\n",
        "            parts = line.strip().split(\"\\t\")  # Разделение строки на части по табуляции\n",
        "            if len(parts) == 2:  # Проверка, что строка содержит два предложения\n",
        "                input_texts.append(clean_sentence(parts[0]))  # Очистка и добавление входного предложения\n",
        "                target_texts.append(clean_sentence(parts[1]))  # Очистка и добавление целевого предложения\n",
        "    return input_texts, target_texts  # Возврат списков входных и целевых предложений\n",
        "\n",
        "# Функция для токенизации текстов\n",
        "def tokenize_texts(texts, vocab_size):\n",
        "    tokenizer = tf.keras.preprocessing.text.Tokenizer(num_words=vocab_size, filters='', oov_token='<unk>')  # Инициализация токенизатора\n",
        "    tokenizer.fit_on_texts(texts)  # Обучение токенизатора на текстах\n",
        "    tensor = tokenizer.texts_to_sequences(texts)  # Преобразование текстов в последовательности индексов\n",
        "    tensor = tf.keras.preprocessing.sequence.pad_sequences(tensor, padding='post')  # Дополнение последовательностей до одинаковой длины\n",
        "    return tensor, tokenizer  # Возврат тензора и токенизатора"
      ]
    },
    {
      "cell_type": "code",
      "execution_count": null,
      "metadata": {
        "id": "ZWkSYkWfyOYX"
      },
      "outputs": [],
      "source": [
        "# Путь к файлу с диалогами\n",
        "path = 'dialogs.txt'\n",
        "\n",
        "# Загрузка диалогов из файла\n",
        "input_texts, target_texts = load_dialogs(path)\n",
        "\n",
        "# Установка размера словаря\n",
        "vocab_size = 5000\n",
        "\n",
        "# Токенизация входных текстов\n",
        "input_tensor, inp_lang_tokenizer = tokenize_texts(input_texts, vocab_size)\n",
        "# Токенизация целевых текстов\n",
        "target_tensor, targ_lang_tokenizer = tokenize_texts(target_texts, vocab_size)\n",
        "\n",
        "# Разделение данных на обучающую и валидационную выборки\n",
        "input_tensor_train, input_tensor_val, target_tensor_train, target_tensor_val = train_test_split(\n",
        "    input_tensor, target_tensor, test_size=0.2  # 20% данных используются для валидации\n",
        ")"
      ]
    },
    {
      "cell_type": "code",
      "execution_count": null,
      "metadata": {
        "colab": {
          "base_uri": "https://localhost:8080/"
        },
        "id": "6F2gbotiyPko",
        "outputId": "901b9cd0-7652-44ae-9018-69afd1422a13"
      },
      "outputs": [],
      "source": [
        "# Установка параметров модели\n",
        "embedding_dim = 256  # Размерность векторного представления слов (Embedding)\n",
        "units = 512  # Количество нейронов в LSTM слое\n",
        "batch_size = 64  # Размер батча\n",
        "\n",
        "# Создание экземпляров энкодера и декодера\n",
        "encoder = TextEncoder(vocab_size, embedding_dim, units, batch_size)\n",
        "decoder = TextDecoder(vocab_size, embedding_dim, units, batch_size)\n",
        "\n",
        "# Инициализация оптимизатора и функции потерь\n",
        "optimizer = tf.keras.optimizers.Adam()  # Оптимизатор Adam\n",
        "loss_object = tf.keras.losses.SparseCategoricalCrossentropy(from_logits=True, reduction='none')  # Функция потерь\n",
        "\n",
        "# Функция для вычисления потерь с учетом маскирования\n",
        "def calculate_loss(real, pred):\n",
        "    mask = tf.math.logical_not(tf.math.equal(real, 0))  # Создание маски для игнорирования нулевых значений (padding)\n",
        "    loss_ = loss_object(real, pred)  # Вычисление потерь\n",
        "    mask = tf.cast(mask, dtype=loss_.dtype)  # Приведение маски к типу данных потерь\n",
        "    loss_ *= mask  # Применение маски к потерям\n",
        "    return tf.reduce_mean(loss_)  # Возврат среднего значения потерь\n",
        "\n",
        "# Декорированная функция для выполнения одного шага обучения\n",
        "@tf.function\n",
        "def train_step(inp, targ, enc_hidden):\n",
        "    loss = 0  # Инициализация переменной для накопления потерь\n",
        "    with tf.GradientTape() as tape:  # Контекст для записи операций и вычисления градиентов\n",
        "        # Кодирование входных данных\n",
        "        enc_output, enc_hidden_h, enc_hidden_c = encoder(inp)\n",
        "        dec_hidden = enc_hidden_h  # Инициализация скрытого состояния декодера\n",
        "        # Начальный вход для декодера (токен <start>)\n",
        "        dec_input = tf.expand_dims([targ_lang_tokenizer.word_index['<start>']] * batch_size, 1)\n",
        "\n",
        "        # Цикл по временным шагам целевой последовательности\n",
        "        for t in range(1, targ.shape[1]):\n",
        "            # Декодирование и предсказание следующего слова\n",
        "            predictions, dec_hidden_h, dec_hidden_c, _ = decoder(dec_input, dec_hidden, enc_output)\n",
        "            # Накопление потерь\n",
        "            loss += calculate_loss(targ[:, t], predictions)\n",
        "            # Обновление входного слова для следующего шага\n",
        "            dec_input = tf.expand_dims(targ[:, t], 1)\n",
        "\n",
        "    # Вычисление средних потерь на батч\n",
        "    batch_loss = loss / int(targ.shape[1])\n",
        "    # Получение списка обучаемых переменных\n",
        "    variables = encoder.trainable_variables + decoder.trainable_variables\n",
        "    # Вычисление градиентов\n",
        "    gradients = tape.gradient(loss, variables)\n",
        "    # Обновление весов модели\n",
        "    optimizer.apply_gradients(zip(gradients, variables))\n",
        "    return batch_loss  # Возврат потерь на батч\n",
        "\n",
        "# Количество эпох обучения\n",
        "EPOCHS = 100\n",
        "\n",
        "# Цикл обучения\n",
        "for epoch in range(EPOCHS):\n",
        "    total_loss = 0  # Инициализация переменной для накопления потерь за эпоху\n",
        "    enc_hidden = tf.zeros((batch_size, units))  # Инициализация скрытого состояния энкодера\n",
        "    # Цикл по батчам\n",
        "    for batch in range(len(input_tensor_train)//batch_size):\n",
        "        # Получение текущего батча\n",
        "        batch_input = input_tensor_train[batch*batch_size:(batch+1)*batch_size]\n",
        "        batch_target = target_tensor_train[batch*batch_size:(batch+1)*batch_size]\n",
        "        # Выполнение шага обучения и получение потерь\n",
        "        batch_loss = train_step(batch_input, batch_target, enc_hidden)\n",
        "        total_loss += batch_loss  # Накопление потерь\n",
        "    # Вывод средних потерь за эпоху\n",
        "    print(f'Epoch {epoch+1}, Loss: {total_loss/len(input_tensor_train)}')"
      ]
    },
    {
      "cell_type": "code",
      "execution_count": null,
      "metadata": {
        "colab": {
          "base_uri": "https://localhost:8080/",
          "height": 985
        },
        "id": "90Quri2byRWQ",
        "outputId": "86475f16-cccf-4bdc-f249-88093fa6e9d2"
      },
      "outputs": [
        {
          "name": "stdout",
          "output_type": "stream",
          "text": [
            "Перевод: i enjoy the kinds of instruments that i enjoy the kinds of instruments that i enjoy the kinds of instruments that i enjoy the \n"
          ]
        },
        {
          "name": "stderr",
          "output_type": "stream",
          "text": [
            "<ipython-input-9-b10ca10af151>:38: UserWarning: FixedFormatter should only be used together with FixedLocator\n",
            "  ax.set_xticklabels([''] + sentence.split(' '), rotation=90)\n",
            "<ipython-input-9-b10ca10af151>:39: UserWarning: FixedFormatter should only be used together with FixedLocator\n",
            "  ax.set_yticklabels([''] + predicted_sentence.split(' '))\n"
          ]
        },
        {
          "data": {
            "image/png": "[encoded data removed]",
            "text/plain": [
              "<Figure size 1000x1000 with 1 Axes>"
            ]
          },
          "metadata": {},
          "output_type": "display_data"
        }
      ],
      "source": [
        "# Функция для оценки (генерации перевода) предложения\n",
        "def evaluate_sentence(sentence):\n",
        "    attention_plot = np.zeros((max_len_targ, max_len_inp))  # Инициализация массива для хранения весов внимания\n",
        "    sentence = clean_sentence(sentence)  # Очистка предложения\n",
        "\n",
        "    # Преобразование предложения в последовательность индексов\n",
        "    inputs = [inp_lang_tokenizer.word_index.get(i, inp_lang_tokenizer.word_index['<unk>']) for i in sentence.split(' ')]\n",
        "    inputs = tf.keras.preprocessing.sequence.pad_sequences([inputs], maxlen=max_len_inp, padding='post')  # Дополнение до максимальной длины\n",
        "    inputs = tf.convert_to_tensor(inputs)  # Преобразование в тензор\n",
        "\n",
        "    result = ''  # Инициализация переменной для хранения результата\n",
        "    enc_out, enc_hidden_h, enc_hidden_c = encoder(inputs)  # Кодирование входного предложения\n",
        "    dec_hidden = enc_hidden_h  # Инициализация скрытого состояния декодера\n",
        "    dec_input = tf.expand_dims([targ_lang_tokenizer.word_index['<start>']], 0)  # Начальный вход для декодера (токен <start>)\n",
        "\n",
        "    # Цикл по временным шагам для генерации перевода\n",
        "    for t in range(max_len_targ):\n",
        "        # Декодирование и предсказание следующего слова\n",
        "        predictions, dec_hidden_h, dec_hidden_c, attention_weights = decoder(dec_input, dec_hidden, enc_out)\n",
        "        attention_weights = tf.reshape(attention_weights, (-1,))  # Преобразование весов внимания\n",
        "        attention_plot[t] = attention_weights.numpy()  # Сохранение весов внимания\n",
        "\n",
        "        # Получение индекса предсказанного слова\n",
        "        predicted_id = tf.argmax(predictions[0]).numpy()\n",
        "        # Добавление предсказанного слова к результату\n",
        "        result += targ_lang_tokenizer.index_word[predicted_id] + ' '\n",
        "\n",
        "        # Если предсказано слово <end>, завершаем генерацию\n",
        "        if targ_lang_tokenizer.index_word[predicted_id] == '<end>':\n",
        "            return result, attention_plot\n",
        "\n",
        "        # Обновление входного слова для следующего шага\n",
        "        dec_input = tf.expand_dims([predicted_id], 0)\n",
        "\n",
        "    return result, attention_plot  # Возврат результата и весов внимания\n",
        "\n",
        "# Определение максимальных длин входных и целевых последовательностей\n",
        "max_len_inp = input_tensor.shape[1]\n",
        "max_len_targ = target_tensor.shape[1]\n",
        "\n",
        "# Функция для визуализации карты внимания\n",
        "def plot_attention_map(attention, sentence, predicted_sentence):\n",
        "    fig = plt.figure(figsize=(10, 10))  # Создание фигуры\n",
        "    ax = fig.add_subplot(1, 1, 1)  # Добавление подграфика\n",
        "    # Обрезка карты внимания до длины предсказанного и исходного предложения\n",
        "    attention = attention[:len(predicted_sentence.split(' ')), :len(sentence.split(' '))]\n",
        "    ax.matshow(attention, cmap='viridis')  # Отображение карты внимания\n",
        "\n",
        "    # Настройка меток осей\n",
        "    ax.set_xticklabels([''] + sentence.split(' '), rotation=90)\n",
        "    ax.set_yticklabels([''] + predicted_sentence.split(' '))\n",
        "\n",
        "    plt.show()  # Отображение графика\n",
        "\n",
        "# Пример использования\n",
        "sentence = \"how did you become a senior developer?\"\n",
        "result, attention_plot = evaluate_sentence(sentence)  # Генерация перевода\n",
        "print('Перевод:', result)  # Вывод перевода\n",
        "\n",
        "# Визуализация карты внимания\n",
        "import matplotlib.pyplot as plt\n",
        "plot_attention_map(attention_plot, sentence, result)"
      ]
    }
  ],
  "metadata": {
    "accelerator": "GPU",
    "colab": {
      "gpuType": "T4",
      "provenance": []
    },
    "kernelspec": {
      "display_name": "Python 3",
      "name": "python3"
    },
    "language_info": {
      "name": "python",
      "version": "3.12.9"
    }
  },
  "nbformat": 4,
  "nbformat_minor": 0
}
