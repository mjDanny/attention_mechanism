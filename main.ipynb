{
  "nbformat": 4,
  "nbformat_minor": 0,
  "metadata": {
    "colab": {
      "provenance": [],
      "gpuType": "T4"
    },
    "kernelspec": {
      "name": "python3",
      "display_name": "Python 3"
    },
    "language_info": {
      "name": "python"
    },
    "accelerator": "GPU"
  },
  "cells": [
    {
      "cell_type": "code",
      "source": [
        "import tensorflow as tf\n",
        "from tensorflow.keras.layers import Layer, LSTM, Embedding, Dense\n",
        "import numpy as np\n",
        "import re\n",
        "from sklearn.model_selection import train_test_split\n"
      ],
      "metadata": {
        "id": "v0qQaplFyUdv"
      },
      "execution_count": null,
      "outputs": []
    },
    {
      "cell_type": "code",
      "source": [
        "!wget https://storage.yandexcloud.net/academy.ai/LLM/dialogs.txt\n"
      ],
      "metadata": {
        "colab": {
          "base_uri": "https://localhost:8080/"
        },
        "id": "9Xnm81nCyFe-",
        "outputId": "dcacda42-117c-4ccd-9e63-aa2002a0ea99"
      },
      "execution_count": null,
      "outputs": [
        {
          "output_type": "stream",
          "name": "stdout",
          "text": [
            "--2024-10-21 11:21:52--  https://storage.yandexcloud.net/academy.ai/LLM/dialogs.txt\n",
            "Resolving storage.yandexcloud.net (storage.yandexcloud.net)... 213.180.193.243, 2a02:6b8::1d9\n",
            "Connecting to storage.yandexcloud.net (storage.yandexcloud.net)|213.180.193.243|:443... connected.\n",
            "HTTP request sent, awaiting response... 200 OK\n",
            "Length: 243904 (238K) [text/plain]\n",
            "Saving to: ‘dialogs.txt’\n",
            "\n",
            "dialogs.txt         100%[===================>] 238.19K   179KB/s    in 1.3s    \n",
            "\n",
            "2024-10-21 11:21:55 (179 KB/s) - ‘dialogs.txt’ saved [243904/243904]\n",
            "\n"
          ]
        }
      ]
    },
    {
      "cell_type": "code",
      "source": [
        "class AttentionMechanism(Layer):\n",
        "    def __init__(self, method, units):\n",
        "        super(AttentionMechanism, self).__init__()\n",
        "        self.method = method\n",
        "        self.units = units\n",
        "\n",
        "        if self.method == 'bahdanau':\n",
        "            self.W1 = Dense(units)\n",
        "            self.W2 = Dense(units)\n",
        "            self.V = Dense(1)\n",
        "        elif self.method == 'luong_gen':\n",
        "            self.W = Dense(units)\n",
        "        elif self.method == 'luong_concat':\n",
        "            self.W = Dense(units)\n",
        "            self.V = Dense(1)\n",
        "\n",
        "    def call(self, query, values):\n",
        "        if self.method == 'bahdanau':\n",
        "            query_with_time_axis = tf.expand_dims(query, 1)\n",
        "            score = self.V(tf.nn.tanh(self.W1(query_with_time_axis) + self.W2(values)))\n",
        "        elif self.method == 'luong_gen':\n",
        "            score = tf.matmul(values, tf.expand_dims(query, 2))\n",
        "        elif self.method == 'luong_concat':\n",
        "            query_with_time_axis = tf.expand_dims(query, 1)\n",
        "            score = self.V(tf.nn.tanh(self.W(tf.concat([query_with_time_axis, values], axis=-1))))\n",
        "\n",
        "        attention_weights = tf.nn.softmax(score, axis=1)\n",
        "        context_vector = attention_weights * values\n",
        "        context_vector = tf.reduce_sum(context_vector, axis=1)\n",
        "\n",
        "        return context_vector, attention_weights\n"
      ],
      "metadata": {
        "id": "9cwik5HCyGP9"
      },
      "execution_count": null,
      "outputs": []
    },
    {
      "cell_type": "code",
      "source": [
        "class TextEncoder(Layer):\n",
        "    def __init__(self, vocab_size, embedding_dim, enc_units, batch_sz):\n",
        "        super(TextEncoder, self).__init__()\n",
        "        self.batch_sz = batch_sz\n",
        "        self.enc_units = enc_units\n",
        "        self.embedding = Embedding(vocab_size, embedding_dim)\n",
        "        self.lstm = LSTM(self.enc_units, return_sequences=True, return_state=True)\n",
        "\n",
        "    def call(self, x):\n",
        "        x = self.embedding(x)\n",
        "        output, state_h, state_c = self.lstm(x)\n",
        "        return output, state_h, state_c\n"
      ],
      "metadata": {
        "id": "V0DgAIYFyKAO"
      },
      "execution_count": null,
      "outputs": []
    },
    {
      "cell_type": "code",
      "source": [
        "class TextDecoder(Layer):\n",
        "    def __init__(self, vocab_size, embedding_dim, dec_units, batch_sz, attention_method='bahdanau'):\n",
        "        super(TextDecoder, self).__init__()\n",
        "        self.batch_sz = batch_sz\n",
        "        self.dec_units = dec_units\n",
        "        self.embedding = Embedding(vocab_size, embedding_dim)\n",
        "        self.lstm = LSTM(self.dec_units, return_sequences=True, return_state=True)\n",
        "        self.fc = Dense(vocab_size)\n",
        "        self.attention = AttentionMechanism(method=attention_method, units=self.dec_units)\n",
        "\n",
        "    def call(self, x, hidden, enc_output):\n",
        "        context_vector, attention_weights = self.attention(hidden, enc_output)\n",
        "        x = self.embedding(x)\n",
        "        x = tf.concat([tf.expand_dims(context_vector, 1), x], axis=-1)\n",
        "        output, state_h, state_c = self.lstm(x)\n",
        "        output = tf.reshape(output, (-1, output.shape[2]))\n",
        "        x = self.fc(output)\n",
        "        return x, state_h, state_c, attention_weights\n"
      ],
      "metadata": {
        "id": "fAmUuLsTyK7n"
      },
      "execution_count": null,
      "outputs": []
    },
    {
      "cell_type": "code",
      "source": [
        "def clean_sentence(sentence):\n",
        "    sentence = sentence.lower().strip()\n",
        "    sentence = re.sub(r\"([?.!,¿])\", r\" \\1 \", sentence)\n",
        "    sentence = re.sub(r'[\" \"]+', \" \", sentence)\n",
        "    sentence = re.sub(r\"[^a-zA-Zа-яА-Я?.!,¿]+\", \" \", sentence)\n",
        "    sentence = sentence.strip()\n",
        "    sentence = '<start> ' + sentence + ' <end>'\n",
        "    return sentence\n",
        "\n",
        "def load_dialogs(path):\n",
        "    input_texts = []\n",
        "    target_texts = []\n",
        "    with open(path, encoding='utf-8') as file:\n",
        "        for line in file:\n",
        "            parts = line.strip().split(\"\\t\")\n",
        "            if len(parts) == 2:\n",
        "                input_texts.append(clean_sentence(parts[0]))\n",
        "                target_texts.append(clean_sentence(parts[1]))\n",
        "    return input_texts, target_texts\n",
        "\n",
        "def tokenize_texts(texts, vocab_size):\n",
        "    tokenizer = tf.keras.preprocessing.text.Tokenizer(num_words=vocab_size, filters='', oov_token='<unk>')\n",
        "    tokenizer.fit_on_texts(texts)\n",
        "    tensor = tokenizer.texts_to_sequences(texts)\n",
        "    tensor = tf.keras.preprocessing.sequence.pad_sequences(tensor, padding='post')\n",
        "    return tensor, tokenizer\n"
      ],
      "metadata": {
        "id": "3BPaBliuyNH_"
      },
      "execution_count": null,
      "outputs": []
    },
    {
      "cell_type": "code",
      "source": [
        "path = 'dialogs.txt'\n",
        "input_texts, target_texts = load_dialogs(path)\n",
        "vocab_size = 5000\n",
        "\n",
        "input_tensor, inp_lang_tokenizer = tokenize_texts(input_texts, vocab_size)\n",
        "target_tensor, targ_lang_tokenizer = tokenize_texts(target_texts, vocab_size)\n",
        "\n",
        "input_tensor_train, input_tensor_val, target_tensor_train, target_tensor_val = train_test_split(input_tensor, target_tensor, test_size=0.2)\n"
      ],
      "metadata": {
        "id": "ZWkSYkWfyOYX"
      },
      "execution_count": null,
      "outputs": []
    },
    {
      "cell_type": "code",
      "source": [
        "embedding_dim = 256\n",
        "units = 512\n",
        "batch_size = 64\n",
        "\n",
        "encoder = TextEncoder(vocab_size, embedding_dim, units, batch_size)\n",
        "decoder = TextDecoder(vocab_size, embedding_dim, units, batch_size)\n",
        "\n",
        "optimizer = tf.keras.optimizers.Adam()\n",
        "loss_object = tf.keras.losses.SparseCategoricalCrossentropy(from_logits=True, reduction='none')\n",
        "\n",
        "def calculate_loss(real, pred):\n",
        "    mask = tf.math.logical_not(tf.math.equal(real, 0))\n",
        "    loss_ = loss_object(real, pred)\n",
        "    mask = tf.cast(mask, dtype=loss_.dtype)\n",
        "    loss_ *= mask\n",
        "    return tf.reduce_mean(loss_)\n",
        "\n",
        "@tf.function\n",
        "def train_step(inp, targ, enc_hidden):\n",
        "    loss = 0\n",
        "    with tf.GradientTape() as tape:\n",
        "        enc_output, enc_hidden_h, enc_hidden_c = encoder(inp)\n",
        "        dec_hidden = enc_hidden_h\n",
        "        dec_input = tf.expand_dims([targ_lang_tokenizer.word_index['<start>']] * batch_size, 1)\n",
        "\n",
        "        for t in range(1, targ.shape[1]):\n",
        "            predictions, dec_hidden_h, dec_hidden_c, _ = decoder(dec_input, dec_hidden, enc_output)\n",
        "            loss += calculate_loss(targ[:, t], predictions)\n",
        "            dec_input = tf.expand_dims(targ[:, t], 1)\n",
        "\n",
        "    batch_loss = loss / int(targ.shape[1])\n",
        "    variables = encoder.trainable_variables + decoder.trainable_variables\n",
        "    gradients = tape.gradient(loss, variables)\n",
        "    optimizer.apply_gradients(zip(gradients, variables))\n",
        "    return batch_loss\n",
        "\n",
        "EPOCHS = 100\n",
        "\n",
        "for epoch in range(EPOCHS):\n",
        "    total_loss = 0\n",
        "    enc_hidden = tf.zeros((batch_size, units))\n",
        "    for batch in range(len(input_tensor_train)//batch_size):\n",
        "        batch_input = input_tensor_train[batch*batch_size:(batch+1)*batch_size]\n",
        "        batch_target = target_tensor_train[batch*batch_size:(batch+1)*batch_size]\n",
        "        batch_loss = train_step(batch_input, batch_target, enc_hidden)\n",
        "        total_loss += batch_loss\n",
        "    print(f'Epoch {epoch+1}, Loss: {total_loss/len(input_tensor_train)}')\n"
      ],
      "metadata": {
        "colab": {
          "base_uri": "https://localhost:8080/"
        },
        "id": "6F2gbotiyPko",
        "outputId": "901b9cd0-7652-44ae-9018-69afd1422a13"
      },
      "execution_count": null,
      "outputs": [
        {
          "output_type": "stream",
          "name": "stdout",
          "text": [
            "Epoch 1, Loss: 0.035757068544626236\n",
            "Epoch 2, Loss: 0.03022547997534275\n",
            "Epoch 3, Loss: 0.02861032448709011\n",
            "Epoch 4, Loss: 0.02724066935479641\n",
            "Epoch 5, Loss: 0.02627233974635601\n",
            "Epoch 6, Loss: 0.025421254336833954\n",
            "Epoch 7, Loss: 0.024679934605956078\n",
            "Epoch 8, Loss: 0.024048564955592155\n",
            "Epoch 9, Loss: 0.0234934464097023\n",
            "Epoch 10, Loss: 0.02299727126955986\n",
            "Epoch 11, Loss: 0.02255803346633911\n",
            "Epoch 12, Loss: 0.02215965837240219\n",
            "Epoch 13, Loss: 0.021751046180725098\n",
            "Epoch 14, Loss: 0.021349593997001648\n",
            "Epoch 15, Loss: 0.020982764661312103\n",
            "Epoch 16, Loss: 0.020624026656150818\n",
            "Epoch 17, Loss: 0.020216185599565506\n",
            "Epoch 18, Loss: 0.01982620730996132\n",
            "Epoch 19, Loss: 0.01945793442428112\n",
            "Epoch 20, Loss: 0.01912458799779415\n",
            "Epoch 21, Loss: 0.01877514272928238\n",
            "Epoch 22, Loss: 0.018467292189598083\n",
            "Epoch 23, Loss: 0.018138965591788292\n",
            "Epoch 24, Loss: 0.017778055742383003\n",
            "Epoch 25, Loss: 0.0174751877784729\n",
            "Epoch 26, Loss: 0.01722044125199318\n",
            "Epoch 27, Loss: 0.016835933551192284\n",
            "Epoch 28, Loss: 0.016413217410445213\n",
            "Epoch 29, Loss: 0.015993798151612282\n",
            "Epoch 30, Loss: 0.015632938593626022\n",
            "Epoch 31, Loss: 0.015347982756793499\n",
            "Epoch 32, Loss: 0.015128661878407001\n",
            "Epoch 33, Loss: 0.014937929809093475\n",
            "Epoch 34, Loss: 0.01458959374576807\n",
            "Epoch 35, Loss: 0.014234175905585289\n",
            "Epoch 36, Loss: 0.013946195133030415\n",
            "Epoch 37, Loss: 0.013603986240923405\n",
            "Epoch 38, Loss: 0.013313481584191322\n",
            "Epoch 39, Loss: 0.013000485487282276\n",
            "Epoch 40, Loss: 0.012672715820372105\n",
            "Epoch 41, Loss: 0.012291887775063515\n",
            "Epoch 42, Loss: 0.011935560032725334\n",
            "Epoch 43, Loss: 0.011514787562191486\n",
            "Epoch 44, Loss: 0.011125181801617146\n",
            "Epoch 45, Loss: 0.010753943584859371\n",
            "Epoch 46, Loss: 0.01041280385106802\n",
            "Epoch 47, Loss: 0.010153957642614841\n",
            "Epoch 48, Loss: 0.009928759187459946\n",
            "Epoch 49, Loss: 0.009733013808727264\n",
            "Epoch 50, Loss: 0.009366841055452824\n",
            "Epoch 51, Loss: 0.008972431533038616\n",
            "Epoch 52, Loss: 0.008535291999578476\n",
            "Epoch 53, Loss: 0.008136318065226078\n",
            "Epoch 54, Loss: 0.007743834983557463\n",
            "Epoch 55, Loss: 0.007357668597251177\n",
            "Epoch 56, Loss: 0.0070427050814032555\n",
            "Epoch 57, Loss: 0.006787137594074011\n",
            "Epoch 58, Loss: 0.006549508310854435\n",
            "Epoch 59, Loss: 0.006242000497877598\n",
            "Epoch 60, Loss: 0.005838003009557724\n",
            "Epoch 61, Loss: 0.005497980397194624\n",
            "Epoch 62, Loss: 0.005231877788901329\n",
            "Epoch 63, Loss: 0.004976151045411825\n",
            "Epoch 64, Loss: 0.004560693632811308\n",
            "Epoch 65, Loss: 0.004197251051664352\n",
            "Epoch 66, Loss: 0.0038898505736142397\n",
            "Epoch 67, Loss: 0.0035777718294411898\n",
            "Epoch 68, Loss: 0.0033121355809271336\n",
            "Epoch 69, Loss: 0.003041647607460618\n",
            "Epoch 70, Loss: 0.0027648922987282276\n",
            "Epoch 71, Loss: 0.0025540865026414394\n",
            "Epoch 72, Loss: 0.002345847897231579\n",
            "Epoch 73, Loss: 0.0021440873388201\n",
            "Epoch 74, Loss: 0.00195687054656446\n",
            "Epoch 75, Loss: 0.001819542609155178\n",
            "Epoch 76, Loss: 0.0017031481256708503\n",
            "Epoch 77, Loss: 0.001583587029017508\n",
            "Epoch 78, Loss: 0.001459820312447846\n",
            "Epoch 79, Loss: 0.0013743165181949735\n",
            "Epoch 80, Loss: 0.001302636694163084\n",
            "Epoch 81, Loss: 0.0012350787874311209\n",
            "Epoch 82, Loss: 0.001167986774817109\n",
            "Epoch 83, Loss: 0.0011123822769150138\n",
            "Epoch 84, Loss: 0.001072448561899364\n",
            "Epoch 85, Loss: 0.0010375060373917222\n",
            "Epoch 86, Loss: 0.0010054070735350251\n",
            "Epoch 87, Loss: 0.0009805795270949602\n",
            "Epoch 88, Loss: 0.0009466413757763803\n",
            "Epoch 89, Loss: 0.0008905419381335378\n",
            "Epoch 90, Loss: 0.0008448885637335479\n",
            "Epoch 91, Loss: 0.0008026076829992235\n",
            "Epoch 92, Loss: 0.0007699855486862361\n",
            "Epoch 93, Loss: 0.0007392304833047092\n",
            "Epoch 94, Loss: 0.0007191509357653558\n",
            "Epoch 95, Loss: 0.0007018072647042572\n",
            "Epoch 96, Loss: 0.0006830423371866345\n",
            "Epoch 97, Loss: 0.0006733633344992995\n",
            "Epoch 98, Loss: 0.0006578136817552149\n",
            "Epoch 99, Loss: 0.0006520277238450944\n",
            "Epoch 100, Loss: 0.0006456344272010028\n"
          ]
        }
      ]
    },
    {
      "cell_type": "code",
      "source": [
        "def evaluate_sentence(sentence):\n",
        "    attention_plot = np.zeros((max_len_targ, max_len_inp))\n",
        "    sentence = clean_sentence(sentence)\n",
        "\n",
        "    inputs = [inp_lang_tokenizer.word_index.get(i, inp_lang_tokenizer.word_index['<unk>']) for i in sentence.split(' ')]\n",
        "    inputs = tf.keras.preprocessing.sequence.pad_sequences([inputs], maxlen=max_len_inp, padding='post')\n",
        "    inputs = tf.convert_to_tensor(inputs)\n",
        "\n",
        "    result = ''\n",
        "    enc_out, enc_hidden_h, enc_hidden_c = encoder(inputs)\n",
        "    dec_hidden = enc_hidden_h\n",
        "    dec_input = tf.expand_dims([targ_lang_tokenizer.word_index['<start>']], 0)\n",
        "\n",
        "    for t in range(max_len_targ):\n",
        "        predictions, dec_hidden_h, dec_hidden_c, attention_weights = decoder(dec_input, dec_hidden, enc_out)\n",
        "        attention_weights = tf.reshape(attention_weights, (-1,))\n",
        "        attention_plot[t] = attention_weights.numpy()\n",
        "\n",
        "        predicted_id = tf.argmax(predictions[0]).numpy()\n",
        "        result += targ_lang_tokenizer.index_word[predicted_id] + ' '\n",
        "\n",
        "        if targ_lang_tokenizer.index_word[predicted_id] == '<end>':\n",
        "            return result, attention_plot\n",
        "\n",
        "        dec_input = tf.expand_dims([predicted_id], 0)\n",
        "\n",
        "    return result, attention_plot\n",
        "\n",
        "max_len_inp = input_tensor.shape[1]\n",
        "max_len_targ = target_tensor.shape[1]\n",
        "\n",
        "def plot_attention_map(attention, sentence, predicted_sentence):\n",
        "    fig = plt.figure(figsize=(10, 10))\n",
        "    ax = fig.add_subplot(1, 1, 1)\n",
        "    attention = attention[:len(predicted_sentence.split(' ')), :len(sentence.split(' '))]\n",
        "    ax.matshow(attention, cmap='viridis')\n",
        "\n",
        "    ax.set_xticklabels([''] + sentence.split(' '), rotation=90)\n",
        "    ax.set_yticklabels([''] + predicted_sentence.split(' '))\n",
        "\n",
        "    plt.show()\n",
        "\n",
        "sentence = \"how did you become a senior developer?\"\n",
        "result, attention_plot = evaluate_sentence(sentence)\n",
        "print('Перевод:', result)\n",
        "\n",
        "import matplotlib.pyplot as plt\n",
        "\n",
        "plot_attention_map(attention_plot, sentence, result)\n"
      ],
      "metadata": {
        "colab": {
          "base_uri": "https://localhost:8080/",
          "height": 985
        },
        "id": "90Quri2byRWQ",
        "outputId": "86475f16-cccf-4bdc-f249-88093fa6e9d2"
      },
      "execution_count": null,
      "outputs": [
        {
          "output_type": "stream",
          "name": "stdout",
          "text": [
            "Перевод: i enjoy the kinds of instruments that i enjoy the kinds of instruments that i enjoy the kinds of instruments that i enjoy the \n"
          ]
        },
        {
          "output_type": "stream",
          "name": "stderr",
          "text": [
            "<ipython-input-9-b10ca10af151>:38: UserWarning: FixedFormatter should only be used together with FixedLocator\n",
            "  ax.set_xticklabels([''] + sentence.split(' '), rotation=90)\n",
            "<ipython-input-9-b10ca10af151>:39: UserWarning: FixedFormatter should only be used together with FixedLocator\n",
            "  ax.set_yticklabels([''] + predicted_sentence.split(' '))\n"
          ]
        },
        {
          "output_type": "display_data",
          "data": {
            "text/plain": [
              "<Figure size 1000x1000 with 1 Axes>"
            ],
            "image/png": "[encoded data removed]"
          },
          "metadata": {}
        }
      ]
    }
  ]
}